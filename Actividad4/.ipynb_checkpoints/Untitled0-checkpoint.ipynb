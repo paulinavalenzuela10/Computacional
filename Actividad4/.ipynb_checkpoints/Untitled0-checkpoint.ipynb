{
 "metadata": {
  "name": "",
  "signature": "sha256:c1e801e1c335a558fee723f658b9afad1210a2447dc5b74bf8dabfa70560b68e"
 },
 "nbformat": 3,
 "nbformat_minor": 0,
 "worksheets": []
}