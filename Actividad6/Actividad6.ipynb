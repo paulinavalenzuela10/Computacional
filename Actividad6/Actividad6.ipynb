{
 "metadata": {
  "name": "",
  "signature": "sha256:f816df90504f39370e9dacf51795a402b7f126927736409f67bba98c1ab8ef61"
 },
 "nbformat": 3,
 "nbformat_minor": 0,
 "worksheets": [
  {
   "cells": [
    {
     "cell_type": "code",
     "collapsed": false,
     "input": [
      "import numpy as np\n",
      "from scipy.integrate import quad\n",
      "import matplotlib.pyplot as plt\n",
      "\n",
      "\n",
      "#Constantes\n",
      "l = 4.0     \n",
      "g = 9.81 \n",
      "n = 2000\n",
      "To = 2.0 * np.pi*np.sqrt(l/g)\n",
      "\n",
      "#Error\n",
      "eps= 0.001\n",
      "\n",
      "#Rangos\n",
      "t0 =np.linspace(eps, np.pi + eps, n)\n",
      "r = [0 for i in range(n)]\n",
      "e = [0 for i in range(n)]\n",
      "T = [0 for i in range(n)]\n",
      "\n",
      "\n",
      "\n",
      "inte = lambda x, k : 1.0 /(np.sqrt(np.cos(x)-np.cos(k)))\n",
      "\n",
      "for i in range(n):\n",
      "    t2 = t0[i]\n",
      "    r[i] , e [i] = quad(inte, 0, t2, args=(t2))\n",
      "\n",
      "    T[i] = 4*np.sqrt(l/(2*g)) * r[i]\n",
      "\n",
      "\n",
      "ER = (T/ To)\n",
      "\n",
      "#Grafica\n",
      "plt.plot(t0,ER, '#FF00FF')\n",
      "plt.grid()\n",
      "plt.xlabel(\"angulo\")\n",
      "plt.ylabel(\"Error Relativo\")\n",
      "plt.show()\n",
      "\n"
     ],
     "language": "python",
     "metadata": {},
     "outputs": [
      {
       "metadata": {},
       "output_type": "display_data",
       "png": "[encoded data removed]",
       "text": [
        "<matplotlib.figure.Figure at 0x7fa4b4c6be10>"
       ]
      }
     ],
     "prompt_number": 23
    },
    {
     "cell_type": "code",
     "collapsed": false,
     "input": [],
     "language": "python",
     "metadata": {},
     "outputs": []
    }
   ],
   "metadata": {}
  }
 ]
}